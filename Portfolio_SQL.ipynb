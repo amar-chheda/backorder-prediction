{
 "cells": [
  {
   "cell_type": "markdown",
   "metadata": {},
   "source": [
    "# Introduction to Databases!\n",
    "\n",
    "## Database VS Spreadsheets\n",
    "\n",
    "\"Excel also stores my data and I can retrieve and manipulate the data using filters, join it to other files and worksheets, perform advanced functions like VLOOKUP, PivotTable, and so on. So why do I need this fancy database thing you are talking about? You IT guys just want to milk money from me. No, my Excel sheets are perfectly adequate!\"\n",
    "\n",
    "Sound familiar? It might be if you’ve ever worked as a database consultant for small businesses. It would seem at first glance that a lot of the functionality offered by databases can be achieved much more easily (and cheaply!) by just using spreadsheets. However, the spreadsheet has a number of limitations that make it unsuitable for managing some data situations:\n",
    "\n",
    "Spreadsheets generally cannot handle multi-user access. If you work in an organization that uses shared files, you have more likely than not come across the annoying \"file is locked by another user\" error message. Even if a specific type of spreadsheet has some multi-user functionality, it is relatively limited. Databases on the other hand, can perfectly handle multi-user access, even for a mix of read-writes and read-only access for the same data item.\n",
    "Spreadsheets provide poor data validation and integrity. There’s little stopping one of your users from totally deleting the data in an Excel file. Sure you can employ worksheet passwords, but these provide a very limited level of security, and cannot stop someone from deleting the entire file. Databases can provide a fine-grained level of security and can even protect users from their own human mistakes. For instance, a database application can easily be set up to ensure that when creating a customer you must also enter a Social Security number.\n",
    "\n",
    "Querying and reporting is one feature that spreadsheets do not do well. The ability to run queries against a data set is extremely useful. Granted, spreadsheets can offer some rudimentary reporting via filters and graphing, but comparing this to SQL queries in databases that can join multiple tables and perform complex operations is akin to comparing Fred Flinststone’s car to a brand-new Mercedes S-Class, the epitome of motoring technology.\n",
    "Computer resources are severely tasked by handling large spreadsheets. Databases can easily hold and provide access to data in the order of millions of rows, organized into hundreds of tables, all running on a basic server, without breaking a sweat. Try increasing the number of rows in your Excel file to hundreds of thousands of rows, and watch what happens to your computer’s response time.\n",
    "\n",
    "Spreadsheets are much easier to create and maintain. Databases require more investment in terms of both of financial outlay and human training. However, the reward for this is a much more robust and secure storage and retrieval data system. The point at which you need to move away from spreadsheets and into a database-based system may be when you answer \"yes\" to one or more of the following questions:\n",
    "\n",
    "Is the data held in spreadsheets needed over a long-term or recurring basis, as opposed to a one-time work in progress?\n",
    "Do multiple people need access to this data?\n",
    "Do you need to safeguard against erroneous entries?\n",
    "Does the data need to be protected against inadvertent corruption?\n",
    "Need more convincing? Well an authority no less than the U.S. government has decreed, via Section 404 of the Sarbanes-Oxley Act, that all public companies must move the reporting of key financial data away from spreadsheets."
   ]
  },
  {
   "cell_type": "markdown",
   "metadata": {},
   "source": [
    "# Data Collection\n",
    "\n",
    "We have scraped our data from IMDB and used Twitter and Facebook for scraping the social media. You can find good tutorials on using these on the following links:\n",
    "- [IMDB scraping](https://www.dataquest.io/blog/web-scraping-beautifulsoup/)\n",
    "- [Using Facebook API](https://towardsdatascience.com/how-to-use-facebook-graph-api-and-extract-data-using-python-1839e19d6999)\n",
    "- [Using twitter API](http://stackabuse.com/accessing-the-twitter-api-with-python/)\n",
    "\n",
    "These topics are very important for data collection, but they are out of scope of this blog. Here we are mainly focused on creating a database.\n",
    "\n",
    "#### Enough talks, lets get on to it!"
   ]
  },
  {
   "cell_type": "code",
   "execution_count": 2,
   "metadata": {
    "collapsed": true
   },
   "outputs": [],
   "source": [
    "#Calling Dependencies\n",
    "import pandas as pd\n",
    "import numpy as np\n",
    "import sqlite3"
   ]
  },
  {
   "cell_type": "markdown",
   "metadata": {},
   "source": [
    "# Let's have a look at our data:\n",
    "\n",
    "We have scraped and collected the data as per the methods mentioned in the blogs above. Now let's get started by using the data to create the database. We have the scraped the data already in 1st normal form."
   ]
  },
  {
   "cell_type": "code",
   "execution_count": 3,
   "metadata": {},
   "outputs": [
    {
     "data": {
      "text/html": [
       "<div>\n",
       "<style>\n",
       "    .dataframe thead tr:only-child th {\n",
       "        text-align: right;\n",
       "    }\n",
       "\n",
       "    .dataframe thead th {\n",
       "        text-align: left;\n",
       "    }\n",
       "\n",
       "    .dataframe tbody tr th {\n",
       "        vertical-align: top;\n",
       "    }\n",
       "</style>\n",
       "<table border=\"1\" class=\"dataframe\">\n",
       "  <thead>\n",
       "    <tr style=\"text-align: right;\">\n",
       "      <th></th>\n",
       "      <th>certificate_id</th>\n",
       "      <th>certificate</th>\n",
       "      <th>director_id</th>\n",
       "      <th>director_name</th>\n",
       "      <th>genre_id</th>\n",
       "      <th>genre</th>\n",
       "      <th>gross_value</th>\n",
       "      <th>imdb_ratings</th>\n",
       "      <th>metscores</th>\n",
       "      <th>movie_description</th>\n",
       "      <th>Movie_id</th>\n",
       "      <th>movie_names</th>\n",
       "      <th>runtime</th>\n",
       "      <th>star_cast_id</th>\n",
       "      <th>star_cast</th>\n",
       "      <th>votes</th>\n",
       "      <th>year_release</th>\n",
       "    </tr>\n",
       "  </thead>\n",
       "  <tbody>\n",
       "    <tr>\n",
       "      <th>0</th>\n",
       "      <td>2</td>\n",
       "      <td>PG-13</td>\n",
       "      <td>1350</td>\n",
       "      <td>Ryan Coogler</td>\n",
       "      <td>100</td>\n",
       "      <td>Action</td>\n",
       "      <td>291954422.0</td>\n",
       "      <td>7.9</td>\n",
       "      <td>88</td>\n",
       "      <td>[\"T'Challa, the King of Wakanda, rises to the ...</td>\n",
       "      <td>100.0</td>\n",
       "      <td>Black Panther</td>\n",
       "      <td>134</td>\n",
       "      <td>10676</td>\n",
       "      <td>Ryan Coogler</td>\n",
       "      <td>121117</td>\n",
       "      <td>2018</td>\n",
       "    </tr>\n",
       "    <tr>\n",
       "      <th>1</th>\n",
       "      <td>2</td>\n",
       "      <td>PG-13</td>\n",
       "      <td>1350</td>\n",
       "      <td>Ryan Coogler</td>\n",
       "      <td>104</td>\n",
       "      <td>Adventure</td>\n",
       "      <td>291954422.0</td>\n",
       "      <td>7.9</td>\n",
       "      <td>88</td>\n",
       "      <td>[\"T'Challa, the King of Wakanda, rises to the ...</td>\n",
       "      <td>100.0</td>\n",
       "      <td>Black Panther</td>\n",
       "      <td>134</td>\n",
       "      <td>10676</td>\n",
       "      <td>Ryan Coogler</td>\n",
       "      <td>121117</td>\n",
       "      <td>2018</td>\n",
       "    </tr>\n",
       "    <tr>\n",
       "      <th>2</th>\n",
       "      <td>2</td>\n",
       "      <td>PG-13</td>\n",
       "      <td>1350</td>\n",
       "      <td>Ryan Coogler</td>\n",
       "      <td>102</td>\n",
       "      <td>Sci</td>\n",
       "      <td>291954422.0</td>\n",
       "      <td>7.9</td>\n",
       "      <td>88</td>\n",
       "      <td>[\"T'Challa, the King of Wakanda, rises to the ...</td>\n",
       "      <td>100.0</td>\n",
       "      <td>Black Panther</td>\n",
       "      <td>134</td>\n",
       "      <td>10676</td>\n",
       "      <td>Ryan Coogler</td>\n",
       "      <td>121117</td>\n",
       "      <td>2018</td>\n",
       "    </tr>\n",
       "    <tr>\n",
       "      <th>3</th>\n",
       "      <td>2</td>\n",
       "      <td>PG-13</td>\n",
       "      <td>1350</td>\n",
       "      <td>Ryan Coogler</td>\n",
       "      <td>103</td>\n",
       "      <td>Fi</td>\n",
       "      <td>291954422.0</td>\n",
       "      <td>7.9</td>\n",
       "      <td>88</td>\n",
       "      <td>[\"T'Challa, the King of Wakanda, rises to the ...</td>\n",
       "      <td>100.0</td>\n",
       "      <td>Black Panther</td>\n",
       "      <td>134</td>\n",
       "      <td>10676</td>\n",
       "      <td>Ryan Coogler</td>\n",
       "      <td>121117</td>\n",
       "      <td>2018</td>\n",
       "    </tr>\n",
       "    <tr>\n",
       "      <th>4</th>\n",
       "      <td>2</td>\n",
       "      <td>PG-13</td>\n",
       "      <td>1350</td>\n",
       "      <td>Ryan Coogler</td>\n",
       "      <td>100</td>\n",
       "      <td>Action</td>\n",
       "      <td>291954422.0</td>\n",
       "      <td>7.9</td>\n",
       "      <td>88</td>\n",
       "      <td>[\"T'Challa, the King of Wakanda, rises to the ...</td>\n",
       "      <td>100.0</td>\n",
       "      <td>Black Panther</td>\n",
       "      <td>134</td>\n",
       "      <td>10677</td>\n",
       "      <td>Chadwick Boseman</td>\n",
       "      <td>121117</td>\n",
       "      <td>2018</td>\n",
       "    </tr>\n",
       "  </tbody>\n",
       "</table>\n",
       "</div>"
      ],
      "text/plain": [
       "   certificate_id certificate  director_id director_name  genre_id      genre  \\\n",
       "0               2       PG-13         1350  Ryan Coogler       100     Action   \n",
       "1               2       PG-13         1350  Ryan Coogler       104  Adventure   \n",
       "2               2       PG-13         1350  Ryan Coogler       102        Sci   \n",
       "3               2       PG-13         1350  Ryan Coogler       103         Fi   \n",
       "4               2       PG-13         1350  Ryan Coogler       100     Action   \n",
       "\n",
       "   gross_value  imdb_ratings  metscores  \\\n",
       "0  291954422.0           7.9         88   \n",
       "1  291954422.0           7.9         88   \n",
       "2  291954422.0           7.9         88   \n",
       "3  291954422.0           7.9         88   \n",
       "4  291954422.0           7.9         88   \n",
       "\n",
       "                                   movie_description  Movie_id    movie_names  \\\n",
       "0  [\"T'Challa, the King of Wakanda, rises to the ...     100.0  Black Panther   \n",
       "1  [\"T'Challa, the King of Wakanda, rises to the ...     100.0  Black Panther   \n",
       "2  [\"T'Challa, the King of Wakanda, rises to the ...     100.0  Black Panther   \n",
       "3  [\"T'Challa, the King of Wakanda, rises to the ...     100.0  Black Panther   \n",
       "4  [\"T'Challa, the King of Wakanda, rises to the ...     100.0  Black Panther   \n",
       "\n",
       "   runtime  star_cast_id         star_cast   votes  year_release  \n",
       "0      134         10676      Ryan Coogler  121117          2018  \n",
       "1      134         10676      Ryan Coogler  121117          2018  \n",
       "2      134         10676      Ryan Coogler  121117          2018  \n",
       "3      134         10676      Ryan Coogler  121117          2018  \n",
       "4      134         10677  Chadwick Boseman  121117          2018  "
      ]
     },
     "execution_count": 3,
     "metadata": {},
     "output_type": "execute_result"
    }
   ],
   "source": [
    "#reading the movie dataset\n",
    "movie_data = pd.read_csv(\"imdb_movie_dataset.csv\")\n",
    "movie_data.head()"
   ]
  },
  {
   "cell_type": "code",
   "execution_count": 4,
   "metadata": {},
   "outputs": [
    {
     "data": {
      "text/html": [
       "<div>\n",
       "<style>\n",
       "    .dataframe thead tr:only-child th {\n",
       "        text-align: right;\n",
       "    }\n",
       "\n",
       "    .dataframe thead th {\n",
       "        text-align: left;\n",
       "    }\n",
       "\n",
       "    .dataframe tbody tr th {\n",
       "        vertical-align: top;\n",
       "    }\n",
       "</style>\n",
       "<table border=\"1\" class=\"dataframe\">\n",
       "  <thead>\n",
       "    <tr style=\"text-align: right;\">\n",
       "      <th></th>\n",
       "      <th>created_at</th>\n",
       "      <th>post_comment_count</th>\n",
       "      <th>post_id</th>\n",
       "      <th>post_likes_count</th>\n",
       "      <th>post_message</th>\n",
       "      <th>post_movie</th>\n",
       "      <th>movie_id</th>\n",
       "      <th>post_shares_count</th>\n",
       "      <th>user_engagement</th>\n",
       "      <th>Unnamed: 10</th>\n",
       "      <th>Unnamed: 11</th>\n",
       "      <th>Unnamed: 12</th>\n",
       "      <th>Unnamed: 13</th>\n",
       "      <th>Unnamed: 14</th>\n",
       "    </tr>\n",
       "  </thead>\n",
       "  <tbody>\n",
       "    <tr>\n",
       "      <th>0</th>\n",
       "      <td>2018-03-12T20:00:00+0000</td>\n",
       "      <td>2</td>\n",
       "      <td>458711740828112_1857840717581867</td>\n",
       "      <td>6</td>\n",
       "      <td>NaN</td>\n",
       "      <td>Black Panther</td>\n",
       "      <td>100.0</td>\n",
       "      <td>4.0</td>\n",
       "      <td>12</td>\n",
       "      <td>NaN</td>\n",
       "      <td>NaN</td>\n",
       "      <td>NaN</td>\n",
       "      <td>NaN</td>\n",
       "      <td>NaN</td>\n",
       "    </tr>\n",
       "    <tr>\n",
       "      <th>1</th>\n",
       "      <td>2018-03-12T19:45:00+0000</td>\n",
       "      <td>0</td>\n",
       "      <td>458711740828112_1858124704220135</td>\n",
       "      <td>7</td>\n",
       "      <td>NaN</td>\n",
       "      <td>Black Panther</td>\n",
       "      <td>100.0</td>\n",
       "      <td>4.0</td>\n",
       "      <td>11</td>\n",
       "      <td>NaN</td>\n",
       "      <td>NaN</td>\n",
       "      <td>NaN</td>\n",
       "      <td>NaN</td>\n",
       "      <td>NaN</td>\n",
       "    </tr>\n",
       "    <tr>\n",
       "      <th>2</th>\n",
       "      <td>2018-03-12T19:30:00+0000</td>\n",
       "      <td>0</td>\n",
       "      <td>458711740828112_1857840970915175</td>\n",
       "      <td>17</td>\n",
       "      <td>NaN</td>\n",
       "      <td>Black Panther</td>\n",
       "      <td>100.0</td>\n",
       "      <td>5.0</td>\n",
       "      <td>22</td>\n",
       "      <td>NaN</td>\n",
       "      <td>NaN</td>\n",
       "      <td>NaN</td>\n",
       "      <td>NaN</td>\n",
       "      <td>NaN</td>\n",
       "    </tr>\n",
       "    <tr>\n",
       "      <th>3</th>\n",
       "      <td>2018-03-12T19:16:01+0000</td>\n",
       "      <td>1</td>\n",
       "      <td>458711740828112_1857951664237439</td>\n",
       "      <td>22</td>\n",
       "      <td>NaN</td>\n",
       "      <td>Black Panther</td>\n",
       "      <td>100.0</td>\n",
       "      <td>12.0</td>\n",
       "      <td>35</td>\n",
       "      <td>NaN</td>\n",
       "      <td>NaN</td>\n",
       "      <td>NaN</td>\n",
       "      <td>NaN</td>\n",
       "      <td>NaN</td>\n",
       "    </tr>\n",
       "    <tr>\n",
       "      <th>4</th>\n",
       "      <td>2018-03-12T19:00:00+0000</td>\n",
       "      <td>1</td>\n",
       "      <td>458711740828112_1858196714212934</td>\n",
       "      <td>31</td>\n",
       "      <td>NaN</td>\n",
       "      <td>Black Panther</td>\n",
       "      <td>100.0</td>\n",
       "      <td>12.0</td>\n",
       "      <td>44</td>\n",
       "      <td>NaN</td>\n",
       "      <td>NaN</td>\n",
       "      <td>NaN</td>\n",
       "      <td>NaN</td>\n",
       "      <td>NaN</td>\n",
       "    </tr>\n",
       "  </tbody>\n",
       "</table>\n",
       "</div>"
      ],
      "text/plain": [
       "                 created_at  post_comment_count  \\\n",
       "0  2018-03-12T20:00:00+0000                   2   \n",
       "1  2018-03-12T19:45:00+0000                   0   \n",
       "2  2018-03-12T19:30:00+0000                   0   \n",
       "3  2018-03-12T19:16:01+0000                   1   \n",
       "4  2018-03-12T19:00:00+0000                   1   \n",
       "\n",
       "                            post_id  post_likes_count post_message  \\\n",
       "0  458711740828112_1857840717581867                 6          NaN   \n",
       "1  458711740828112_1858124704220135                 7          NaN   \n",
       "2  458711740828112_1857840970915175                17          NaN   \n",
       "3  458711740828112_1857951664237439                22          NaN   \n",
       "4  458711740828112_1858196714212934                31          NaN   \n",
       "\n",
       "      post_movie  movie_id  post_shares_count  user_engagement  Unnamed: 10  \\\n",
       "0  Black Panther     100.0                4.0               12          NaN   \n",
       "1  Black Panther     100.0                4.0               11          NaN   \n",
       "2  Black Panther     100.0                5.0               22          NaN   \n",
       "3  Black Panther     100.0               12.0               35          NaN   \n",
       "4  Black Panther     100.0               12.0               44          NaN   \n",
       "\n",
       "   Unnamed: 11  Unnamed: 12  Unnamed: 13  Unnamed: 14  \n",
       "0          NaN          NaN          NaN          NaN  \n",
       "1          NaN          NaN          NaN          NaN  \n",
       "2          NaN          NaN          NaN          NaN  \n",
       "3          NaN          NaN          NaN          NaN  \n",
       "4          NaN          NaN          NaN          NaN  "
      ]
     },
     "execution_count": 4,
     "metadata": {},
     "output_type": "execute_result"
    }
   ],
   "source": [
    "#reading post dataset\n",
    "post_data = pd.read_csv(\"post_data_fb.csv\")\n",
    "post_data = post_data.drop(['Unnamed: 0'], axis = 1)\n",
    "post_data.head()"
   ]
  },
  {
   "cell_type": "code",
   "execution_count": 5,
   "metadata": {},
   "outputs": [
    {
     "data": {
      "text/html": [
       "<div>\n",
       "<style>\n",
       "    .dataframe thead tr:only-child th {\n",
       "        text-align: right;\n",
       "    }\n",
       "\n",
       "    .dataframe thead th {\n",
       "        text-align: left;\n",
       "    }\n",
       "\n",
       "    .dataframe tbody tr th {\n",
       "        vertical-align: top;\n",
       "    }\n",
       "</style>\n",
       "<table border=\"1\" class=\"dataframe\">\n",
       "  <thead>\n",
       "    <tr style=\"text-align: right;\">\n",
       "      <th></th>\n",
       "      <th>comments_id</th>\n",
       "      <th>created_at</th>\n",
       "      <th>post_comments</th>\n",
       "      <th>post_id</th>\n",
       "    </tr>\n",
       "  </thead>\n",
       "  <tbody>\n",
       "    <tr>\n",
       "      <th>0</th>\n",
       "      <td>1857840717581867_1858341727531766</td>\n",
       "      <td>2018-03-12T20:06:32+0000</td>\n",
       "      <td>NaN</td>\n",
       "      <td>458711740828112_1857840717581867</td>\n",
       "    </tr>\n",
       "    <tr>\n",
       "      <th>1</th>\n",
       "      <td>1857840717581867_1858346307531308</td>\n",
       "      <td>2018-03-12T20:11:39+0000</td>\n",
       "      <td>Vero grazie, buonanotte</td>\n",
       "      <td>458711740828112_1857840717581867</td>\n",
       "    </tr>\n",
       "    <tr>\n",
       "      <th>2</th>\n",
       "      <td>1857951664237439_1858307817535157</td>\n",
       "      <td>2018-03-12T19:21:25+0000</td>\n",
       "      <td>Mia</td>\n",
       "      <td>458711740828112_1857951664237439</td>\n",
       "    </tr>\n",
       "    <tr>\n",
       "      <th>3</th>\n",
       "      <td>1858196714212934_1858339450865327</td>\n",
       "      <td>2018-03-12T20:03:33+0000</td>\n",
       "      <td>Verissimo .</td>\n",
       "      <td>458711740828112_1858196714212934</td>\n",
       "    </tr>\n",
       "    <tr>\n",
       "      <th>4</th>\n",
       "      <td>1857841970915075_1858309760868296</td>\n",
       "      <td>2018-03-12T19:23:36+0000</td>\n",
       "      <td>Soffro ma tenace,,</td>\n",
       "      <td>458711740828112_1857841970915075</td>\n",
       "    </tr>\n",
       "  </tbody>\n",
       "</table>\n",
       "</div>"
      ],
      "text/plain": [
       "                         comments_id                created_at  \\\n",
       "0  1857840717581867_1858341727531766  2018-03-12T20:06:32+0000   \n",
       "1  1857840717581867_1858346307531308  2018-03-12T20:11:39+0000   \n",
       "2  1857951664237439_1858307817535157  2018-03-12T19:21:25+0000   \n",
       "3  1858196714212934_1858339450865327  2018-03-12T20:03:33+0000   \n",
       "4  1857841970915075_1858309760868296  2018-03-12T19:23:36+0000   \n",
       "\n",
       "             post_comments                           post_id  \n",
       "0                      NaN  458711740828112_1857840717581867  \n",
       "1  Vero grazie, buonanotte  458711740828112_1857840717581867  \n",
       "2                      Mia  458711740828112_1857951664237439  \n",
       "3              Verissimo .  458711740828112_1858196714212934  \n",
       "4       Soffro ma tenace,,  458711740828112_1857841970915075  "
      ]
     },
     "execution_count": 5,
     "metadata": {},
     "output_type": "execute_result"
    }
   ],
   "source": [
    "#reading comment dataset\n",
    "comment_data = pd.read_csv(\"comments_posts_fb.csv\")\n",
    "comment_data = comment_data.drop(['Unnamed: 0'], axis = 1)\n",
    "comment_data.head()"
   ]
  },
  {
   "cell_type": "code",
   "execution_count": 6,
   "metadata": {},
   "outputs": [
    {
     "data": {
      "text/html": [
       "<div>\n",
       "<style>\n",
       "    .dataframe thead tr:only-child th {\n",
       "        text-align: right;\n",
       "    }\n",
       "\n",
       "    .dataframe thead th {\n",
       "        text-align: left;\n",
       "    }\n",
       "\n",
       "    .dataframe tbody tr th {\n",
       "        vertical-align: top;\n",
       "    }\n",
       "</style>\n",
       "<table border=\"1\" class=\"dataframe\">\n",
       "  <thead>\n",
       "    <tr style=\"text-align: right;\">\n",
       "      <th></th>\n",
       "      <th>movie</th>\n",
       "      <th>movie_id</th>\n",
       "      <th>user_id</th>\n",
       "      <th>screen_name</th>\n",
       "      <th>tweet_id</th>\n",
       "      <th>tweet_text</th>\n",
       "      <th>hashtags</th>\n",
       "      <th>user_mentions</th>\n",
       "      <th>created_date</th>\n",
       "      <th>retweet_count</th>\n",
       "    </tr>\n",
       "  </thead>\n",
       "  <tbody>\n",
       "    <tr>\n",
       "      <th>0</th>\n",
       "      <td>100.0</td>\n",
       "      <td>BlackPanther</td>\n",
       "      <td>121211</td>\n",
       "      <td>happyhealthyacw</td>\n",
       "      <td>1111</td>\n",
       "      <td>Just saw #BlackPanther and now I keep randomly...</td>\n",
       "      <td>BlackPanther</td>\n",
       "      <td>NaN</td>\n",
       "      <td>Sat Mar 17 20:41:14 +0000 2018</td>\n",
       "      <td>0</td>\n",
       "    </tr>\n",
       "    <tr>\n",
       "      <th>1</th>\n",
       "      <td>100.0</td>\n",
       "      <td>BlackPanther</td>\n",
       "      <td>121212</td>\n",
       "      <td>ClintonS_anchez</td>\n",
       "      <td>1112</td>\n",
       "      <td>RT @WakaFlocka: We Got Him OUT!!! #DanielKaluu...</td>\n",
       "      <td>DanielKaluuya London BlackPanther</td>\n",
       "      <td>WakaFlocka DJWhooKid</td>\n",
       "      <td>Sat Mar 17 20:41:13 +0000 2018</td>\n",
       "      <td>96</td>\n",
       "    </tr>\n",
       "    <tr>\n",
       "      <th>2</th>\n",
       "      <td>100.0</td>\n",
       "      <td>BlackPanther</td>\n",
       "      <td>121213</td>\n",
       "      <td>blackaqualad</td>\n",
       "      <td>1113</td>\n",
       "      <td>RT @GeeksOfColor: The Dora Milaje Take Center ...</td>\n",
       "      <td>BlackPanther</td>\n",
       "      <td>GeeksOfColor</td>\n",
       "      <td>Sat Mar 17 20:41:00 +0000 2018</td>\n",
       "      <td>281</td>\n",
       "    </tr>\n",
       "    <tr>\n",
       "      <th>3</th>\n",
       "      <td>100.0</td>\n",
       "      <td>BlackPanther</td>\n",
       "      <td>121214</td>\n",
       "      <td>84Samson</td>\n",
       "      <td>1114</td>\n",
       "      <td>RT @RahelWeldeab: Real talk! \\r\\n‘Black Panthe...</td>\n",
       "      <td>BlackPanther</td>\n",
       "      <td>RahelWeldeab</td>\n",
       "      <td>Sat Mar 17 20:40:58 +0000 2018</td>\n",
       "      <td>2</td>\n",
       "    </tr>\n",
       "    <tr>\n",
       "      <th>4</th>\n",
       "      <td>100.0</td>\n",
       "      <td>BlackPanther</td>\n",
       "      <td>121215</td>\n",
       "      <td>RootabagaS</td>\n",
       "      <td>1115</td>\n",
       "      <td>KillMonger and Shuri were the best character o...</td>\n",
       "      <td>BlackPanther</td>\n",
       "      <td>NaN</td>\n",
       "      <td>Sat Mar 17 20:40:58 +0000 2018</td>\n",
       "      <td>0</td>\n",
       "    </tr>\n",
       "  </tbody>\n",
       "</table>\n",
       "</div>"
      ],
      "text/plain": [
       "   movie      movie_id  user_id      screen_name  tweet_id  \\\n",
       "0  100.0  BlackPanther   121211  happyhealthyacw      1111   \n",
       "1  100.0  BlackPanther   121212  ClintonS_anchez      1112   \n",
       "2  100.0  BlackPanther   121213     blackaqualad      1113   \n",
       "3  100.0  BlackPanther   121214         84Samson      1114   \n",
       "4  100.0  BlackPanther   121215       RootabagaS      1115   \n",
       "\n",
       "                                          tweet_text  \\\n",
       "0  Just saw #BlackPanther and now I keep randomly...   \n",
       "1  RT @WakaFlocka: We Got Him OUT!!! #DanielKaluu...   \n",
       "2  RT @GeeksOfColor: The Dora Milaje Take Center ...   \n",
       "3  RT @RahelWeldeab: Real talk! \\r\\n‘Black Panthe...   \n",
       "4  KillMonger and Shuri were the best character o...   \n",
       "\n",
       "                             hashtags          user_mentions  \\\n",
       "0                        BlackPanther                    NaN   \n",
       "1   DanielKaluuya London BlackPanther   WakaFlocka DJWhooKid   \n",
       "2                        BlackPanther           GeeksOfColor   \n",
       "3                        BlackPanther           RahelWeldeab   \n",
       "4                        BlackPanther                    NaN   \n",
       "\n",
       "                     created_date  retweet_count  \n",
       "0  Sat Mar 17 20:41:14 +0000 2018              0  \n",
       "1  Sat Mar 17 20:41:13 +0000 2018             96  \n",
       "2  Sat Mar 17 20:41:00 +0000 2018            281  \n",
       "3  Sat Mar 17 20:40:58 +0000 2018              2  \n",
       "4  Sat Mar 17 20:40:58 +0000 2018              0  "
      ]
     },
     "execution_count": 6,
     "metadata": {},
     "output_type": "execute_result"
    }
   ],
   "source": [
    "#reading tweets database\n",
    "tweets_data = pd.read_csv(\"Tweets.csv\")\n",
    "tweets_data.head()"
   ]
  },
  {
   "cell_type": "code",
   "execution_count": 7,
   "metadata": {},
   "outputs": [
    {
     "data": {
      "text/html": [
       "<div>\n",
       "<style>\n",
       "    .dataframe thead tr:only-child th {\n",
       "        text-align: right;\n",
       "    }\n",
       "\n",
       "    .dataframe thead th {\n",
       "        text-align: left;\n",
       "    }\n",
       "\n",
       "    .dataframe tbody tr th {\n",
       "        vertical-align: top;\n",
       "    }\n",
       "</style>\n",
       "<table border=\"1\" class=\"dataframe\">\n",
       "  <thead>\n",
       "    <tr style=\"text-align: right;\">\n",
       "      <th></th>\n",
       "      <th>movie_id</th>\n",
       "      <th>word</th>\n",
       "      <th>score</th>\n",
       "    </tr>\n",
       "  </thead>\n",
       "  <tbody>\n",
       "    <tr>\n",
       "      <th>0</th>\n",
       "      <td>134</td>\n",
       "      <td>NaN</td>\n",
       "      <td>2.456736</td>\n",
       "    </tr>\n",
       "    <tr>\n",
       "      <th>1</th>\n",
       "      <td>131</td>\n",
       "      <td>NaN</td>\n",
       "      <td>2.456736</td>\n",
       "    </tr>\n",
       "    <tr>\n",
       "      <th>2</th>\n",
       "      <td>102</td>\n",
       "      <td>mazerunnermovie</td>\n",
       "      <td>0.301284</td>\n",
       "    </tr>\n",
       "    <tr>\n",
       "      <th>3</th>\n",
       "      <td>102</td>\n",
       "      <td>dylanobrien</td>\n",
       "      <td>0.301284</td>\n",
       "    </tr>\n",
       "    <tr>\n",
       "      <th>4</th>\n",
       "      <td>102</td>\n",
       "      <td>sangsterthomas</td>\n",
       "      <td>0.301284</td>\n",
       "    </tr>\n",
       "  </tbody>\n",
       "</table>\n",
       "</div>"
      ],
      "text/plain": [
       "   movie_id             word     score\n",
       "0       134              NaN  2.456736\n",
       "1       131              NaN  2.456736\n",
       "2       102  mazerunnermovie  0.301284\n",
       "3       102      dylanobrien  0.301284\n",
       "4       102   sangsterthomas  0.301284"
      ]
     },
     "execution_count": 7,
     "metadata": {},
     "output_type": "execute_result"
    }
   ],
   "source": [
    "#reading the scores\n",
    "tag_scores = pd.read_csv(\"scores.csv\")\n",
    "tag_scores = tag_scores[['movie_id', 'word', 'score']]\n",
    "tag_scores.head()"
   ]
  },
  {
   "cell_type": "markdown",
   "metadata": {},
   "source": [
    "# Normalizing the data:\n",
    "\n",
    "We see that we have our data alrady in the 1st normal form, we will have to convert the data in atleast the 3rd normal form before you store the same in a database. We will be using SQLite database for the purpose of creation of our database. The schema of the database will be explained later in the blog.\n",
    "\n",
    "##### This is a good resource for learning to use [SQLite using python](https://www.pythoncentral.io/introduction-to-sqlite-in-python/)."
   ]
  },
  {
   "cell_type": "code",
   "execution_count": 8,
   "metadata": {},
   "outputs": [
    {
     "data": {
      "text/html": [
       "<div>\n",
       "<style>\n",
       "    .dataframe thead tr:only-child th {\n",
       "        text-align: right;\n",
       "    }\n",
       "\n",
       "    .dataframe thead th {\n",
       "        text-align: left;\n",
       "    }\n",
       "\n",
       "    .dataframe tbody tr th {\n",
       "        vertical-align: top;\n",
       "    }\n",
       "</style>\n",
       "<table border=\"1\" class=\"dataframe\">\n",
       "  <thead>\n",
       "    <tr style=\"text-align: right;\">\n",
       "      <th></th>\n",
       "      <th>movie_id</th>\n",
       "      <th>movie_names</th>\n",
       "      <th>movie_description</th>\n",
       "      <th>imdb_ratings</th>\n",
       "      <th>metascores</th>\n",
       "      <th>runtime</th>\n",
       "      <th>gross_value</th>\n",
       "      <th>year_release</th>\n",
       "    </tr>\n",
       "  </thead>\n",
       "  <tbody>\n",
       "    <tr>\n",
       "      <th>0</th>\n",
       "      <td>100.0</td>\n",
       "      <td>Black Panther</td>\n",
       "      <td>[\"T'Challa, the King of Wakanda, rises to the ...</td>\n",
       "      <td>7.9</td>\n",
       "      <td>88</td>\n",
       "      <td>134</td>\n",
       "      <td>291954422.0</td>\n",
       "      <td>2018</td>\n",
       "    </tr>\n",
       "    <tr>\n",
       "      <th>16</th>\n",
       "      <td>101.0</td>\n",
       "      <td>The Cloverfield Paradox</td>\n",
       "      <td>['Orbiting a planet on the brink of war, scien...</td>\n",
       "      <td>5.7</td>\n",
       "      <td>37</td>\n",
       "      <td>102</td>\n",
       "      <td>NaN</td>\n",
       "      <td>2018</td>\n",
       "    </tr>\n",
       "    <tr>\n",
       "      <th>32</th>\n",
       "      <td>102.0</td>\n",
       "      <td>Maze Runner: The Death Cure</td>\n",
       "      <td>['Young hero Thomas embarks on a mission to fi...</td>\n",
       "      <td>6.8</td>\n",
       "      <td>51</td>\n",
       "      <td>141</td>\n",
       "      <td>55366604.0</td>\n",
       "      <td>2018</td>\n",
       "    </tr>\n",
       "  </tbody>\n",
       "</table>\n",
       "</div>"
      ],
      "text/plain": [
       "    movie_id                  movie_names  \\\n",
       "0      100.0                Black Panther   \n",
       "16     101.0      The Cloverfield Paradox   \n",
       "32     102.0  Maze Runner: The Death Cure   \n",
       "\n",
       "                                    movie_description  imdb_ratings  \\\n",
       "0   [\"T'Challa, the King of Wakanda, rises to the ...           7.9   \n",
       "16  ['Orbiting a planet on the brink of war, scien...           5.7   \n",
       "32  ['Young hero Thomas embarks on a mission to fi...           6.8   \n",
       "\n",
       "    metascores  runtime  gross_value  year_release  \n",
       "0           88      134  291954422.0          2018  \n",
       "16          37      102          NaN          2018  \n",
       "32          51      141   55366604.0          2018  "
      ]
     },
     "execution_count": 8,
     "metadata": {},
     "output_type": "execute_result"
    }
   ],
   "source": [
    "#main table - All the other tables will be connected to this one\n",
    "movie_master_table = pd.DataFrame()\n",
    "movie_master_table[['movie_id','movie_names','movie_description','imdb_ratings','metascores','runtime','gross_value','year_release']] = movie_data[['Movie_id','movie_names','movie_description','imdb_ratings','metscores','runtime','gross_value','year_release']]\n",
    "movie_master_table = movie_master_table.drop_duplicates()\n",
    "movie_master_table.head(3)"
   ]
  },
  {
   "cell_type": "code",
   "execution_count": 9,
   "metadata": {},
   "outputs": [
    {
     "data": {
      "text/html": [
       "<div>\n",
       "<style>\n",
       "    .dataframe thead tr:only-child th {\n",
       "        text-align: right;\n",
       "    }\n",
       "\n",
       "    .dataframe thead th {\n",
       "        text-align: left;\n",
       "    }\n",
       "\n",
       "    .dataframe tbody tr th {\n",
       "        vertical-align: top;\n",
       "    }\n",
       "</style>\n",
       "<table border=\"1\" class=\"dataframe\">\n",
       "  <thead>\n",
       "    <tr style=\"text-align: right;\">\n",
       "      <th></th>\n",
       "      <th>starcast_id</th>\n",
       "      <th>starcast_name</th>\n",
       "    </tr>\n",
       "  </thead>\n",
       "  <tbody>\n",
       "    <tr>\n",
       "      <th>0</th>\n",
       "      <td>10676</td>\n",
       "      <td>Ryan Coogler</td>\n",
       "    </tr>\n",
       "    <tr>\n",
       "      <th>4</th>\n",
       "      <td>10677</td>\n",
       "      <td>Chadwick Boseman</td>\n",
       "    </tr>\n",
       "    <tr>\n",
       "      <th>8</th>\n",
       "      <td>10678</td>\n",
       "      <td>Michael B. Jordan</td>\n",
       "    </tr>\n",
       "  </tbody>\n",
       "</table>\n",
       "</div>"
      ],
      "text/plain": [
       "   starcast_id      starcast_name\n",
       "0        10676       Ryan Coogler\n",
       "4        10677   Chadwick Boseman\n",
       "8        10678  Michael B. Jordan"
      ]
     },
     "execution_count": 9,
     "metadata": {},
     "output_type": "execute_result"
    }
   ],
   "source": [
    "#starcast main table - this will connect to movie table using a seperate relational table\n",
    "starcast_master_table = pd.DataFrame()\n",
    "starcast_master_table[['starcast_id','starcast_name']] = movie_data[['star_cast_id','star_cast']]\n",
    "starcast_master_table = starcast_master_table.drop_duplicates()\n",
    "starcast_master_table.head(3)"
   ]
  },
  {
   "cell_type": "code",
   "execution_count": 10,
   "metadata": {},
   "outputs": [
    {
     "data": {
      "text/html": [
       "<div>\n",
       "<style>\n",
       "    .dataframe thead tr:only-child th {\n",
       "        text-align: right;\n",
       "    }\n",
       "\n",
       "    .dataframe thead th {\n",
       "        text-align: left;\n",
       "    }\n",
       "\n",
       "    .dataframe tbody tr th {\n",
       "        vertical-align: top;\n",
       "    }\n",
       "</style>\n",
       "<table border=\"1\" class=\"dataframe\">\n",
       "  <thead>\n",
       "    <tr style=\"text-align: right;\">\n",
       "      <th></th>\n",
       "      <th>director_id</th>\n",
       "      <th>director_name</th>\n",
       "    </tr>\n",
       "  </thead>\n",
       "  <tbody>\n",
       "    <tr>\n",
       "      <th>0</th>\n",
       "      <td>1350</td>\n",
       "      <td>Ryan Coogler</td>\n",
       "    </tr>\n",
       "    <tr>\n",
       "      <th>16</th>\n",
       "      <td>1351</td>\n",
       "      <td>Julius Onah</td>\n",
       "    </tr>\n",
       "    <tr>\n",
       "      <th>32</th>\n",
       "      <td>1352</td>\n",
       "      <td>Wes Ball</td>\n",
       "    </tr>\n",
       "  </tbody>\n",
       "</table>\n",
       "</div>"
      ],
      "text/plain": [
       "    director_id director_name\n",
       "0          1350  Ryan Coogler\n",
       "16         1351   Julius Onah\n",
       "32         1352      Wes Ball"
      ]
     },
     "execution_count": 10,
     "metadata": {},
     "output_type": "execute_result"
    }
   ],
   "source": [
    "#director main table - this will connect to movie table using a seperate relational table\n",
    "director_master_table = pd.DataFrame()\n",
    "director_master_table[['director_id','director_name']] = movie_data[['director_id','director_name']]\n",
    "director_master_table = director_master_table.drop_duplicates()\n",
    "director_master_table.head(3)"
   ]
  },
  {
   "cell_type": "code",
   "execution_count": 11,
   "metadata": {},
   "outputs": [
    {
     "data": {
      "text/html": [
       "<div>\n",
       "<style>\n",
       "    .dataframe thead tr:only-child th {\n",
       "        text-align: right;\n",
       "    }\n",
       "\n",
       "    .dataframe thead th {\n",
       "        text-align: left;\n",
       "    }\n",
       "\n",
       "    .dataframe tbody tr th {\n",
       "        vertical-align: top;\n",
       "    }\n",
       "</style>\n",
       "<table border=\"1\" class=\"dataframe\">\n",
       "  <thead>\n",
       "    <tr style=\"text-align: right;\">\n",
       "      <th></th>\n",
       "      <th>genre_id</th>\n",
       "      <th>genre</th>\n",
       "    </tr>\n",
       "  </thead>\n",
       "  <tbody>\n",
       "    <tr>\n",
       "      <th>0</th>\n",
       "      <td>100</td>\n",
       "      <td>Action</td>\n",
       "    </tr>\n",
       "    <tr>\n",
       "      <th>1</th>\n",
       "      <td>104</td>\n",
       "      <td>Adventure</td>\n",
       "    </tr>\n",
       "    <tr>\n",
       "      <th>2</th>\n",
       "      <td>102</td>\n",
       "      <td>Sci</td>\n",
       "    </tr>\n",
       "  </tbody>\n",
       "</table>\n",
       "</div>"
      ],
      "text/plain": [
       "   genre_id      genre\n",
       "0       100     Action\n",
       "1       104  Adventure\n",
       "2       102        Sci"
      ]
     },
     "execution_count": 11,
     "metadata": {},
     "output_type": "execute_result"
    }
   ],
   "source": [
    "#genre main table - this will connect to movie table using a seperate relational table\n",
    "genre_master_table = pd.DataFrame()\n",
    "genre_master_table[['genre_id','genre']] = movie_data[['genre_id','genre']]\n",
    "genre_master_table = genre_master_table.drop_duplicates()\n",
    "genre_master_table.head(3)"
   ]
  },
  {
   "cell_type": "code",
   "execution_count": 12,
   "metadata": {},
   "outputs": [
    {
     "data": {
      "text/html": [
       "<div>\n",
       "<style>\n",
       "    .dataframe thead tr:only-child th {\n",
       "        text-align: right;\n",
       "    }\n",
       "\n",
       "    .dataframe thead th {\n",
       "        text-align: left;\n",
       "    }\n",
       "\n",
       "    .dataframe tbody tr th {\n",
       "        vertical-align: top;\n",
       "    }\n",
       "</style>\n",
       "<table border=\"1\" class=\"dataframe\">\n",
       "  <thead>\n",
       "    <tr style=\"text-align: right;\">\n",
       "      <th></th>\n",
       "      <th>post_id</th>\n",
       "      <th>created_at</th>\n",
       "      <th>post_message</th>\n",
       "      <th>likes_count</th>\n",
       "      <th>share_count</th>\n",
       "      <th>comments_count</th>\n",
       "      <th>user_engagement</th>\n",
       "    </tr>\n",
       "  </thead>\n",
       "  <tbody>\n",
       "    <tr>\n",
       "      <th>0</th>\n",
       "      <td>458711740828112_1857840717581867</td>\n",
       "      <td>2018-03-12 20:00:00</td>\n",
       "      <td>NaN</td>\n",
       "      <td>6</td>\n",
       "      <td>4.0</td>\n",
       "      <td>2</td>\n",
       "      <td>12</td>\n",
       "    </tr>\n",
       "    <tr>\n",
       "      <th>1</th>\n",
       "      <td>458711740828112_1858124704220135</td>\n",
       "      <td>2018-03-12 19:45:00</td>\n",
       "      <td>NaN</td>\n",
       "      <td>7</td>\n",
       "      <td>4.0</td>\n",
       "      <td>0</td>\n",
       "      <td>11</td>\n",
       "    </tr>\n",
       "    <tr>\n",
       "      <th>2</th>\n",
       "      <td>458711740828112_1857840970915175</td>\n",
       "      <td>2018-03-12 19:30:00</td>\n",
       "      <td>NaN</td>\n",
       "      <td>17</td>\n",
       "      <td>5.0</td>\n",
       "      <td>0</td>\n",
       "      <td>22</td>\n",
       "    </tr>\n",
       "  </tbody>\n",
       "</table>\n",
       "</div>"
      ],
      "text/plain": [
       "                            post_id          created_at post_message  \\\n",
       "0  458711740828112_1857840717581867 2018-03-12 20:00:00          NaN   \n",
       "1  458711740828112_1858124704220135 2018-03-12 19:45:00          NaN   \n",
       "2  458711740828112_1857840970915175 2018-03-12 19:30:00          NaN   \n",
       "\n",
       "   likes_count  share_count  comments_count  user_engagement  \n",
       "0            6          4.0               2               12  \n",
       "1            7          4.0               0               11  \n",
       "2           17          5.0               0               22  "
      ]
     },
     "execution_count": 12,
     "metadata": {},
     "output_type": "execute_result"
    }
   ],
   "source": [
    "#posts main table - this will connect to movie table using a seperate relational table (these are posts from facebook)\n",
    "posts_master_table = pd.DataFrame()\n",
    "posts_master_table[['post_id','created_at','post_message','likes_count','share_count','comments_count','user_engagement']] = post_data[['post_id','created_at','post_message','post_likes_count','post_shares_count','post_comment_count','user_engagement']]\n",
    "posts_master_table = posts_master_table.drop_duplicates()\n",
    "posts_master_table['created_at'] = posts_master_table['created_at'].astype('datetime64[ns]')\n",
    "posts_master_table.head(3)"
   ]
  },
  {
   "cell_type": "code",
   "execution_count": 13,
   "metadata": {},
   "outputs": [
    {
     "data": {
      "text/html": [
       "<div>\n",
       "<style>\n",
       "    .dataframe thead tr:only-child th {\n",
       "        text-align: right;\n",
       "    }\n",
       "\n",
       "    .dataframe thead th {\n",
       "        text-align: left;\n",
       "    }\n",
       "\n",
       "    .dataframe tbody tr th {\n",
       "        vertical-align: top;\n",
       "    }\n",
       "</style>\n",
       "<table border=\"1\" class=\"dataframe\">\n",
       "  <thead>\n",
       "    <tr style=\"text-align: right;\">\n",
       "      <th></th>\n",
       "      <th>comments_id</th>\n",
       "      <th>created_at</th>\n",
       "      <th>comments</th>\n",
       "    </tr>\n",
       "  </thead>\n",
       "  <tbody>\n",
       "    <tr>\n",
       "      <th>0</th>\n",
       "      <td>1857840717581867_1858341727531766</td>\n",
       "      <td>2018-03-12 20:06:32</td>\n",
       "      <td>NaN</td>\n",
       "    </tr>\n",
       "    <tr>\n",
       "      <th>1</th>\n",
       "      <td>1857840717581867_1858346307531308</td>\n",
       "      <td>2018-03-12 20:11:39</td>\n",
       "      <td>Vero grazie, buonanotte</td>\n",
       "    </tr>\n",
       "    <tr>\n",
       "      <th>2</th>\n",
       "      <td>1857951664237439_1858307817535157</td>\n",
       "      <td>2018-03-12 19:21:25</td>\n",
       "      <td>Mia</td>\n",
       "    </tr>\n",
       "  </tbody>\n",
       "</table>\n",
       "</div>"
      ],
      "text/plain": [
       "                         comments_id          created_at  \\\n",
       "0  1857840717581867_1858341727531766 2018-03-12 20:06:32   \n",
       "1  1857840717581867_1858346307531308 2018-03-12 20:11:39   \n",
       "2  1857951664237439_1858307817535157 2018-03-12 19:21:25   \n",
       "\n",
       "                  comments  \n",
       "0                      NaN  \n",
       "1  Vero grazie, buonanotte  \n",
       "2                      Mia  "
      ]
     },
     "execution_count": 13,
     "metadata": {},
     "output_type": "execute_result"
    }
   ],
   "source": [
    "#comments main table - this will connect to posts table using a seperate relational table\n",
    "comments_master_table = pd.DataFrame()\n",
    "comments_master_table[['comments_id','created_at','comments']] = comment_data[['comments_id','created_at','post_comments']]\n",
    "comments_master_table = comments_master_table.drop_duplicates()\n",
    "comments_master_table['created_at'] = comments_master_table['created_at'].astype('datetime64[ns]')\n",
    "comments_master_table.head(3)"
   ]
  },
  {
   "cell_type": "code",
   "execution_count": 14,
   "metadata": {},
   "outputs": [
    {
     "data": {
      "text/html": [
       "<div>\n",
       "<style>\n",
       "    .dataframe thead tr:only-child th {\n",
       "        text-align: right;\n",
       "    }\n",
       "\n",
       "    .dataframe thead th {\n",
       "        text-align: left;\n",
       "    }\n",
       "\n",
       "    .dataframe tbody tr th {\n",
       "        vertical-align: top;\n",
       "    }\n",
       "</style>\n",
       "<table border=\"1\" class=\"dataframe\">\n",
       "  <thead>\n",
       "    <tr style=\"text-align: right;\">\n",
       "      <th></th>\n",
       "      <th>tweet_id</th>\n",
       "      <th>tweet_text</th>\n",
       "      <th>created_date</th>\n",
       "      <th>retweet_count</th>\n",
       "    </tr>\n",
       "  </thead>\n",
       "  <tbody>\n",
       "    <tr>\n",
       "      <th>0</th>\n",
       "      <td>1111</td>\n",
       "      <td>Just saw #BlackPanther and now I keep randomly...</td>\n",
       "      <td>Sat Mar 17 20:41:14 +0000 2018</td>\n",
       "      <td>0</td>\n",
       "    </tr>\n",
       "    <tr>\n",
       "      <th>1</th>\n",
       "      <td>1112</td>\n",
       "      <td>RT @WakaFlocka: We Got Him OUT!!! #DanielKaluu...</td>\n",
       "      <td>Sat Mar 17 20:41:13 +0000 2018</td>\n",
       "      <td>96</td>\n",
       "    </tr>\n",
       "    <tr>\n",
       "      <th>2</th>\n",
       "      <td>1113</td>\n",
       "      <td>RT @GeeksOfColor: The Dora Milaje Take Center ...</td>\n",
       "      <td>Sat Mar 17 20:41:00 +0000 2018</td>\n",
       "      <td>281</td>\n",
       "    </tr>\n",
       "  </tbody>\n",
       "</table>\n",
       "</div>"
      ],
      "text/plain": [
       "   tweet_id                                         tweet_text  \\\n",
       "0      1111  Just saw #BlackPanther and now I keep randomly...   \n",
       "1      1112  RT @WakaFlocka: We Got Him OUT!!! #DanielKaluu...   \n",
       "2      1113  RT @GeeksOfColor: The Dora Milaje Take Center ...   \n",
       "\n",
       "                     created_date  retweet_count  \n",
       "0  Sat Mar 17 20:41:14 +0000 2018              0  \n",
       "1  Sat Mar 17 20:41:13 +0000 2018             96  \n",
       "2  Sat Mar 17 20:41:00 +0000 2018            281  "
      ]
     },
     "execution_count": 14,
     "metadata": {},
     "output_type": "execute_result"
    }
   ],
   "source": [
    "#tweets main table - this will connect the tweets to the movies\n",
    "tweets_master_table = pd.DataFrame()\n",
    "tweets_master_table[['tweet_id','tweet_text', 'created_date', 'retweet_count']] = tweets_data[['tweet_id','tweet_text','created_date','retweet_count']]\n",
    "tweets_master_table = tweets_master_table.drop_duplicates()\n",
    "tweets_master_table.head(3)"
   ]
  },
  {
   "cell_type": "code",
   "execution_count": 15,
   "metadata": {},
   "outputs": [
    {
     "data": {
      "text/html": [
       "<div>\n",
       "<style>\n",
       "    .dataframe thead tr:only-child th {\n",
       "        text-align: right;\n",
       "    }\n",
       "\n",
       "    .dataframe thead th {\n",
       "        text-align: left;\n",
       "    }\n",
       "\n",
       "    .dataframe tbody tr th {\n",
       "        vertical-align: top;\n",
       "    }\n",
       "</style>\n",
       "<table border=\"1\" class=\"dataframe\">\n",
       "  <thead>\n",
       "    <tr style=\"text-align: right;\">\n",
       "      <th></th>\n",
       "      <th>user_id</th>\n",
       "      <th>user_name</th>\n",
       "    </tr>\n",
       "  </thead>\n",
       "  <tbody>\n",
       "    <tr>\n",
       "      <th>0</th>\n",
       "      <td>121211</td>\n",
       "      <td>happyhealthyacw</td>\n",
       "    </tr>\n",
       "    <tr>\n",
       "      <th>1</th>\n",
       "      <td>121212</td>\n",
       "      <td>ClintonS_anchez</td>\n",
       "    </tr>\n",
       "    <tr>\n",
       "      <th>2</th>\n",
       "      <td>121213</td>\n",
       "      <td>blackaqualad</td>\n",
       "    </tr>\n",
       "  </tbody>\n",
       "</table>\n",
       "</div>"
      ],
      "text/plain": [
       "   user_id        user_name\n",
       "0   121211  happyhealthyacw\n",
       "1   121212  ClintonS_anchez\n",
       "2   121213     blackaqualad"
      ]
     },
     "execution_count": 15,
     "metadata": {},
     "output_type": "execute_result"
    }
   ],
   "source": [
    "#twitter user table - this links the user with tweets\n",
    "twitter_user_table = pd.DataFrame()\n",
    "twitter_user_table[['user_id','user_name']] = tweets_data[['user_id','screen_name']]\n",
    "twitter_user_table = twitter_user_table.drop_duplicates()\n",
    "twitter_user_table.head(3)"
   ]
  },
  {
   "cell_type": "markdown",
   "metadata": {},
   "source": [
    "The above tables have been converted to 3rd normal form, as they follow the following rules:\n",
    "- Rule 1- Be in 2NF\n",
    "- Rule 2- Has no transitive functional dependencies\n",
    "\n",
    "To better understant the normalization of your table, please visit the resource [here](https://www.studytonight.com/dbms/database-normalization.php)"
   ]
  },
  {
   "cell_type": "markdown",
   "metadata": {},
   "source": [
    "# Creating Database Schema:\n",
    "\n",
    "After we have normalized the data, we need to create the relationships based on the [ER-Diagram](https://www.lucidchart.com/pages/er-diagrams). \n",
    "\n",
    "Our database schema looks like this:\n",
    "<img src = \"C:\\Users\\amar\\Desktop\\NorthEastern University\\Books\\Database Management\\Nick\\Portfolio_SQL\\DatabaseSchema.png\">\n",
    "\n",
    "Every tables has to have a primary key, and you connect two tables using the relationship tables. The relationship tables have the primary keys of the two tables they connect as the primary key. \n",
    "\n",
    "Now that we have a good idea of the concepts, let's start creating this relational tables.\n"
   ]
  },
  {
   "cell_type": "markdown",
   "metadata": {},
   "source": [
    "# Design Choices:\n",
    "\n",
    "Based on our application, we have chose to move ahead with the schema as shown in the above image.\n",
    "\n",
    "- We decided to split our data into atomic tables to ensure full normalization of our data. \n",
    "- We use a relational table for joining each table to the other.\n",
    "- We ensure perfect relationship for the joins to work well on our dataset.\n",
    "- We set primary keys for all the table.\n",
    "- We used foreign keys for all the values in a mapping tables, as there will be duplication.\n",
    "- We used integers for values we want to perform arethamatic operations on.\n",
    "- We assigned Varchar for fields which would be changed frequently.\n",
    "- We applied a fixed charecter length for fields like the name, which would not be frequently updated."
   ]
  },
  {
   "cell_type": "code",
   "execution_count": 16,
   "metadata": {},
   "outputs": [
    {
     "data": {
      "text/html": [
       "<div>\n",
       "<style>\n",
       "    .dataframe thead tr:only-child th {\n",
       "        text-align: right;\n",
       "    }\n",
       "\n",
       "    .dataframe thead th {\n",
       "        text-align: left;\n",
       "    }\n",
       "\n",
       "    .dataframe tbody tr th {\n",
       "        vertical-align: top;\n",
       "    }\n",
       "</style>\n",
       "<table border=\"1\" class=\"dataframe\">\n",
       "  <thead>\n",
       "    <tr style=\"text-align: right;\">\n",
       "      <th></th>\n",
       "      <th>movie_id</th>\n",
       "      <th>director_id</th>\n",
       "    </tr>\n",
       "  </thead>\n",
       "  <tbody>\n",
       "    <tr>\n",
       "      <th>0</th>\n",
       "      <td>100.0</td>\n",
       "      <td>1350</td>\n",
       "    </tr>\n",
       "    <tr>\n",
       "      <th>16</th>\n",
       "      <td>101.0</td>\n",
       "      <td>1351</td>\n",
       "    </tr>\n",
       "    <tr>\n",
       "      <th>32</th>\n",
       "      <td>102.0</td>\n",
       "      <td>1352</td>\n",
       "    </tr>\n",
       "  </tbody>\n",
       "</table>\n",
       "</div>"
      ],
      "text/plain": [
       "    movie_id  director_id\n",
       "0      100.0         1350\n",
       "16     101.0         1351\n",
       "32     102.0         1352"
      ]
     },
     "execution_count": 16,
     "metadata": {},
     "output_type": "execute_result"
    }
   ],
   "source": [
    "#movie-director mapping\n",
    "movie_director_maping = pd.DataFrame()\n",
    "movie_director_maping[['movie_id','director_id']] = movie_data[['Movie_id','director_id']]\n",
    "movie_director_maping = movie_director_maping.drop_duplicates()\n",
    "movie_director_maping.head(3)"
   ]
  },
  {
   "cell_type": "code",
   "execution_count": 17,
   "metadata": {},
   "outputs": [
    {
     "data": {
      "text/html": [
       "<div>\n",
       "<style>\n",
       "    .dataframe thead tr:only-child th {\n",
       "        text-align: right;\n",
       "    }\n",
       "\n",
       "    .dataframe thead th {\n",
       "        text-align: left;\n",
       "    }\n",
       "\n",
       "    .dataframe tbody tr th {\n",
       "        vertical-align: top;\n",
       "    }\n",
       "</style>\n",
       "<table border=\"1\" class=\"dataframe\">\n",
       "  <thead>\n",
       "    <tr style=\"text-align: right;\">\n",
       "      <th></th>\n",
       "      <th>movie_id</th>\n",
       "      <th>starcast_id</th>\n",
       "    </tr>\n",
       "  </thead>\n",
       "  <tbody>\n",
       "    <tr>\n",
       "      <th>0</th>\n",
       "      <td>100.0</td>\n",
       "      <td>10676</td>\n",
       "    </tr>\n",
       "    <tr>\n",
       "      <th>4</th>\n",
       "      <td>100.0</td>\n",
       "      <td>10677</td>\n",
       "    </tr>\n",
       "    <tr>\n",
       "      <th>8</th>\n",
       "      <td>100.0</td>\n",
       "      <td>10678</td>\n",
       "    </tr>\n",
       "  </tbody>\n",
       "</table>\n",
       "</div>"
      ],
      "text/plain": [
       "   movie_id  starcast_id\n",
       "0     100.0        10676\n",
       "4     100.0        10677\n",
       "8     100.0        10678"
      ]
     },
     "execution_count": 17,
     "metadata": {},
     "output_type": "execute_result"
    }
   ],
   "source": [
    "#movie-starcast mapping\n",
    "movie_starcast_maping = pd.DataFrame()\n",
    "movie_starcast_maping[['movie_id','starcast_id']] = movie_data[['Movie_id','star_cast_id']]\n",
    "movie_starcast_maping = movie_starcast_maping.drop_duplicates()\n",
    "movie_starcast_maping.head(3)"
   ]
  },
  {
   "cell_type": "code",
   "execution_count": 18,
   "metadata": {},
   "outputs": [
    {
     "data": {
      "text/html": [
       "<div>\n",
       "<style>\n",
       "    .dataframe thead tr:only-child th {\n",
       "        text-align: right;\n",
       "    }\n",
       "\n",
       "    .dataframe thead th {\n",
       "        text-align: left;\n",
       "    }\n",
       "\n",
       "    .dataframe tbody tr th {\n",
       "        vertical-align: top;\n",
       "    }\n",
       "</style>\n",
       "<table border=\"1\" class=\"dataframe\">\n",
       "  <thead>\n",
       "    <tr style=\"text-align: right;\">\n",
       "      <th></th>\n",
       "      <th>movie_id</th>\n",
       "      <th>genre_id</th>\n",
       "    </tr>\n",
       "  </thead>\n",
       "  <tbody>\n",
       "    <tr>\n",
       "      <th>0</th>\n",
       "      <td>100.0</td>\n",
       "      <td>100</td>\n",
       "    </tr>\n",
       "    <tr>\n",
       "      <th>1</th>\n",
       "      <td>100.0</td>\n",
       "      <td>104</td>\n",
       "    </tr>\n",
       "    <tr>\n",
       "      <th>2</th>\n",
       "      <td>100.0</td>\n",
       "      <td>102</td>\n",
       "    </tr>\n",
       "  </tbody>\n",
       "</table>\n",
       "</div>"
      ],
      "text/plain": [
       "   movie_id  genre_id\n",
       "0     100.0       100\n",
       "1     100.0       104\n",
       "2     100.0       102"
      ]
     },
     "execution_count": 18,
     "metadata": {},
     "output_type": "execute_result"
    }
   ],
   "source": [
    "#movie-genre mapping\n",
    "movie_genre_maping = pd.DataFrame()\n",
    "movie_genre_maping[['movie_id','genre_id']] = movie_data[['Movie_id','genre_id']]\n",
    "movie_genre_maping = movie_genre_maping.drop_duplicates()\n",
    "movie_genre_maping.head(3)"
   ]
  },
  {
   "cell_type": "code",
   "execution_count": 19,
   "metadata": {},
   "outputs": [
    {
     "data": {
      "text/html": [
       "<div>\n",
       "<style>\n",
       "    .dataframe thead tr:only-child th {\n",
       "        text-align: right;\n",
       "    }\n",
       "\n",
       "    .dataframe thead th {\n",
       "        text-align: left;\n",
       "    }\n",
       "\n",
       "    .dataframe tbody tr th {\n",
       "        vertical-align: top;\n",
       "    }\n",
       "</style>\n",
       "<table border=\"1\" class=\"dataframe\">\n",
       "  <thead>\n",
       "    <tr style=\"text-align: right;\">\n",
       "      <th></th>\n",
       "      <th>movie_id</th>\n",
       "      <th>post_id</th>\n",
       "    </tr>\n",
       "  </thead>\n",
       "  <tbody>\n",
       "    <tr>\n",
       "      <th>0</th>\n",
       "      <td>100.0</td>\n",
       "      <td>458711740828112_1857840717581867</td>\n",
       "    </tr>\n",
       "    <tr>\n",
       "      <th>1</th>\n",
       "      <td>100.0</td>\n",
       "      <td>458711740828112_1858124704220135</td>\n",
       "    </tr>\n",
       "    <tr>\n",
       "      <th>2</th>\n",
       "      <td>100.0</td>\n",
       "      <td>458711740828112_1857840970915175</td>\n",
       "    </tr>\n",
       "  </tbody>\n",
       "</table>\n",
       "</div>"
      ],
      "text/plain": [
       "   movie_id                           post_id\n",
       "0     100.0  458711740828112_1857840717581867\n",
       "1     100.0  458711740828112_1858124704220135\n",
       "2     100.0  458711740828112_1857840970915175"
      ]
     },
     "execution_count": 19,
     "metadata": {},
     "output_type": "execute_result"
    }
   ],
   "source": [
    "#movie-post mapping\n",
    "movie_post_maping = pd.DataFrame()\n",
    "movie_post_maping[['movie_id','post_id']] = post_data[['movie_id','post_id']]\n",
    "movie_post_maping = movie_post_maping.drop_duplicates()\n",
    "movie_post_maping.head(3)"
   ]
  },
  {
   "cell_type": "code",
   "execution_count": 20,
   "metadata": {},
   "outputs": [
    {
     "data": {
      "text/html": [
       "<div>\n",
       "<style>\n",
       "    .dataframe thead tr:only-child th {\n",
       "        text-align: right;\n",
       "    }\n",
       "\n",
       "    .dataframe thead th {\n",
       "        text-align: left;\n",
       "    }\n",
       "\n",
       "    .dataframe tbody tr th {\n",
       "        vertical-align: top;\n",
       "    }\n",
       "</style>\n",
       "<table border=\"1\" class=\"dataframe\">\n",
       "  <thead>\n",
       "    <tr style=\"text-align: right;\">\n",
       "      <th></th>\n",
       "      <th>post_id</th>\n",
       "      <th>comments_id</th>\n",
       "    </tr>\n",
       "  </thead>\n",
       "  <tbody>\n",
       "    <tr>\n",
       "      <th>0</th>\n",
       "      <td>458711740828112_1857840717581867</td>\n",
       "      <td>1857840717581867_1858341727531766</td>\n",
       "    </tr>\n",
       "    <tr>\n",
       "      <th>1</th>\n",
       "      <td>458711740828112_1857840717581867</td>\n",
       "      <td>1857840717581867_1858346307531308</td>\n",
       "    </tr>\n",
       "    <tr>\n",
       "      <th>2</th>\n",
       "      <td>458711740828112_1857951664237439</td>\n",
       "      <td>1857951664237439_1858307817535157</td>\n",
       "    </tr>\n",
       "  </tbody>\n",
       "</table>\n",
       "</div>"
      ],
      "text/plain": [
       "                            post_id                        comments_id\n",
       "0  458711740828112_1857840717581867  1857840717581867_1858341727531766\n",
       "1  458711740828112_1857840717581867  1857840717581867_1858346307531308\n",
       "2  458711740828112_1857951664237439  1857951664237439_1858307817535157"
      ]
     },
     "execution_count": 20,
     "metadata": {},
     "output_type": "execute_result"
    }
   ],
   "source": [
    "#post-comment mapping\n",
    "post_comment_maping = pd.DataFrame()\n",
    "post_comment_maping[['post_id','comments_id']] = comment_data[['post_id','comments_id']]\n",
    "post_comment_maping = post_comment_maping.drop_duplicates()\n",
    "post_comment_maping.head(3)"
   ]
  },
  {
   "cell_type": "code",
   "execution_count": 21,
   "metadata": {},
   "outputs": [
    {
     "data": {
      "text/html": [
       "<div>\n",
       "<style>\n",
       "    .dataframe thead tr:only-child th {\n",
       "        text-align: right;\n",
       "    }\n",
       "\n",
       "    .dataframe thead th {\n",
       "        text-align: left;\n",
       "    }\n",
       "\n",
       "    .dataframe tbody tr th {\n",
       "        vertical-align: top;\n",
       "    }\n",
       "</style>\n",
       "<table border=\"1\" class=\"dataframe\">\n",
       "  <thead>\n",
       "    <tr style=\"text-align: right;\">\n",
       "      <th></th>\n",
       "      <th>movie_id</th>\n",
       "      <th>tweet_id</th>\n",
       "    </tr>\n",
       "  </thead>\n",
       "  <tbody>\n",
       "    <tr>\n",
       "      <th>0</th>\n",
       "      <td>BlackPanther</td>\n",
       "      <td>1111</td>\n",
       "    </tr>\n",
       "    <tr>\n",
       "      <th>1</th>\n",
       "      <td>BlackPanther</td>\n",
       "      <td>1112</td>\n",
       "    </tr>\n",
       "    <tr>\n",
       "      <th>2</th>\n",
       "      <td>BlackPanther</td>\n",
       "      <td>1113</td>\n",
       "    </tr>\n",
       "  </tbody>\n",
       "</table>\n",
       "</div>"
      ],
      "text/plain": [
       "       movie_id  tweet_id\n",
       "0  BlackPanther      1111\n",
       "1  BlackPanther      1112\n",
       "2  BlackPanther      1113"
      ]
     },
     "execution_count": 21,
     "metadata": {},
     "output_type": "execute_result"
    }
   ],
   "source": [
    "#movie-tweets mapping\n",
    "movie_tweets_mapping = pd.DataFrame()\n",
    "movie_tweets_mapping[['movie_id','tweet_id']] = tweets_data[['movie_id','tweet_id']]\n",
    "movie_tweets_mapping = movie_tweets_mapping.drop_duplicates()\n",
    "movie_tweets_mapping.head(3)"
   ]
  },
  {
   "cell_type": "code",
   "execution_count": 22,
   "metadata": {},
   "outputs": [
    {
     "data": {
      "text/html": [
       "<div>\n",
       "<style>\n",
       "    .dataframe thead tr:only-child th {\n",
       "        text-align: right;\n",
       "    }\n",
       "\n",
       "    .dataframe thead th {\n",
       "        text-align: left;\n",
       "    }\n",
       "\n",
       "    .dataframe tbody tr th {\n",
       "        vertical-align: top;\n",
       "    }\n",
       "</style>\n",
       "<table border=\"1\" class=\"dataframe\">\n",
       "  <thead>\n",
       "    <tr style=\"text-align: right;\">\n",
       "      <th></th>\n",
       "      <th>tweet_id</th>\n",
       "      <th>user_id</th>\n",
       "    </tr>\n",
       "  </thead>\n",
       "  <tbody>\n",
       "    <tr>\n",
       "      <th>0</th>\n",
       "      <td>1111</td>\n",
       "      <td>121211</td>\n",
       "    </tr>\n",
       "    <tr>\n",
       "      <th>1</th>\n",
       "      <td>1112</td>\n",
       "      <td>121212</td>\n",
       "    </tr>\n",
       "    <tr>\n",
       "      <th>2</th>\n",
       "      <td>1113</td>\n",
       "      <td>121213</td>\n",
       "    </tr>\n",
       "  </tbody>\n",
       "</table>\n",
       "</div>"
      ],
      "text/plain": [
       "   tweet_id  user_id\n",
       "0      1111   121211\n",
       "1      1112   121212\n",
       "2      1113   121213"
      ]
     },
     "execution_count": 22,
     "metadata": {},
     "output_type": "execute_result"
    }
   ],
   "source": [
    "#tweets-user mapping\n",
    "tweets_user_mapping = pd.DataFrame()\n",
    "tweets_user_mapping[['tweet_id', 'user_id']] = tweets_data[['tweet_id','user_id']]\n",
    "tweets_user_mapping = tweets_user_mapping.drop_duplicates()\n",
    "tweets_user_mapping.head(3)"
   ]
  },
  {
   "cell_type": "markdown",
   "metadata": {},
   "source": [
    "# Creating databases:\n",
    "\n",
    "We use an SQLite client to query databases using python. We further create the tables and the relationships within the database."
   ]
  },
  {
   "cell_type": "code",
   "execution_count": 24,
   "metadata": {
    "collapsed": true
   },
   "outputs": [],
   "source": [
    "#creating connections\n",
    "conn = sqlite3.connect(\"imdb_movie.db\") #creates and connects to a database named \"imdb_movie\"\n",
    "c = conn.cursor()"
   ]
  },
  {
   "cell_type": "code",
   "execution_count": 26,
   "metadata": {},
   "outputs": [
    {
     "data": {
      "text/plain": [
       "<sqlite3.Cursor at 0x24b65a55490>"
      ]
     },
     "execution_count": 26,
     "metadata": {},
     "output_type": "execute_result"
    }
   ],
   "source": [
    "#c.execute(\"\"\"DROP TABLE movie_master_table\"\"\")\n",
    "c.execute(\"\"\"CREATE TABLE movie_master_table(\n",
    "movie_id INTEGER PRIMARY KEY,\n",
    "movie_names CHAR(50),\n",
    "movie_description VARCHAR(200),\n",
    "imdb_ratings FLOAT,\n",
    "metascores INTEGER,\n",
    "runtime INTEGER,\n",
    "gross_value INTEGER,\n",
    "year_release CHAR(4));\"\"\") #creating a new tables within database"
   ]
  },
  {
   "cell_type": "code",
   "execution_count": 27,
   "metadata": {
    "collapsed": true
   },
   "outputs": [],
   "source": [
    "movie_master_table.to_sql(\"movie_master_table\", conn, if_exists = 'append', index = False) #Storing data frame to SQL database"
   ]
  },
  {
   "cell_type": "code",
   "execution_count": 28,
   "metadata": {},
   "outputs": [
    {
     "data": {
      "text/plain": [
       "<sqlite3.Cursor at 0x24b65a55490>"
      ]
     },
     "execution_count": 28,
     "metadata": {},
     "output_type": "execute_result"
    }
   ],
   "source": [
    "#c.execute(\"\"\"DROP TABLE starcast_master_table;\"\"\")\n",
    "c.execute(\"\"\"CREATE TABLE starcast_master_table(\n",
    "starcast_id INTEGER PRIMARY KEY,\n",
    "starcast_name CHAR NOT NULL);\"\"\") #creating a new tables within database"
   ]
  },
  {
   "cell_type": "code",
   "execution_count": 29,
   "metadata": {
    "collapsed": true
   },
   "outputs": [],
   "source": [
    "starcast_master_table.to_sql(\"starcast_master_table\", conn, if_exists = 'append', index = False) #Storing data frame to SQL database"
   ]
  },
  {
   "cell_type": "code",
   "execution_count": 30,
   "metadata": {},
   "outputs": [
    {
     "data": {
      "text/plain": [
       "<sqlite3.Cursor at 0x24b65a55490>"
      ]
     },
     "execution_count": 30,
     "metadata": {},
     "output_type": "execute_result"
    }
   ],
   "source": [
    "#c.execute(\"\"\"DROP TABLE director_master_table;\"\"\")\n",
    "c.execute(\"\"\"CREATE TABLE director_master_table(\n",
    "director_id INTEGER PRIMARY KEY,\n",
    "director_name CHAR NOT NULL);\"\"\") #creating a new tables within database"
   ]
  },
  {
   "cell_type": "code",
   "execution_count": 31,
   "metadata": {
    "collapsed": true
   },
   "outputs": [],
   "source": [
    "director_master_table.to_sql(\"director_master_table\", conn, if_exists = 'append', index = False) #Storing data frame to SQL database"
   ]
  },
  {
   "cell_type": "code",
   "execution_count": 32,
   "metadata": {},
   "outputs": [
    {
     "data": {
      "text/plain": [
       "<sqlite3.Cursor at 0x24b65a55490>"
      ]
     },
     "execution_count": 32,
     "metadata": {},
     "output_type": "execute_result"
    }
   ],
   "source": [
    "#c.execute(\"\"\"DROP TABLE genre_master_table;\"\"\")\n",
    "c.execute(\"\"\"CREATE TABLE genre_master_table(\n",
    "genre_id INTEGER PRIMARY KEY,\n",
    "genre CHAR NOT NULL);\"\"\") #creating a new tables within database"
   ]
  },
  {
   "cell_type": "code",
   "execution_count": 33,
   "metadata": {
    "collapsed": true
   },
   "outputs": [],
   "source": [
    "genre_master_table.to_sql(\"genre_master_table\", conn, if_exists = 'append', index = False) #Storing data frame to SQL database"
   ]
  },
  {
   "cell_type": "code",
   "execution_count": 34,
   "metadata": {},
   "outputs": [
    {
     "data": {
      "text/plain": [
       "<sqlite3.Cursor at 0x24b65a55490>"
      ]
     },
     "execution_count": 34,
     "metadata": {},
     "output_type": "execute_result"
    }
   ],
   "source": [
    "#c.execute(\"\"\"DROP TABLE posts_master_table;\"\"\")\n",
    "c.execute(\"\"\"CREATE TABLE posts_master_table(\n",
    "post_id CHAR PRIMARY KEY,\n",
    "created_at DATE,\n",
    "post_message CHAR,\n",
    "likes_count INTEGER,\n",
    "share_count INTEGER,\n",
    "comments_count INTEGER,\n",
    "user_engagement INTEGER) ;\"\"\") #creating a new tables within database"
   ]
  },
  {
   "cell_type": "code",
   "execution_count": 35,
   "metadata": {
    "collapsed": true
   },
   "outputs": [],
   "source": [
    "posts_master_table.to_sql(\"posts_master_table\", conn, if_exists = 'append', index = False) #Storing data frame to SQL database"
   ]
  },
  {
   "cell_type": "code",
   "execution_count": 36,
   "metadata": {},
   "outputs": [
    {
     "data": {
      "text/plain": [
       "<sqlite3.Cursor at 0x24b65a55490>"
      ]
     },
     "execution_count": 36,
     "metadata": {},
     "output_type": "execute_result"
    }
   ],
   "source": [
    "#c.execute(\"\"\"DROP TABLE comments_master_table;\"\"\")\n",
    "c.execute(\"\"\"CREATE TABLE comments_master_table(\n",
    "comments_id CHAR PRIMARY KEY,\n",
    "created_at DATE,\n",
    "comments CHAR);\"\"\") #creating a new tables within database"
   ]
  },
  {
   "cell_type": "code",
   "execution_count": 37,
   "metadata": {
    "collapsed": true
   },
   "outputs": [],
   "source": [
    "comments_master_table.to_sql(\"comments_master_table\", conn, if_exists = 'append', index = False) #Storing data frame to SQL database"
   ]
  },
  {
   "cell_type": "code",
   "execution_count": 38,
   "metadata": {},
   "outputs": [
    {
     "data": {
      "text/plain": [
       "<sqlite3.Cursor at 0x24b65a55490>"
      ]
     },
     "execution_count": 38,
     "metadata": {},
     "output_type": "execute_result"
    }
   ],
   "source": [
    "#c.execute(\"\"\"DROP TABLE tweets_master_table;\"\"\")\n",
    "c.execute(\"\"\"CREATE TABLE tweets_master_table(\n",
    "tweet_id INTEGER PRIMARY KEY,\n",
    "tweet_text CHAR,\n",
    "created_date DATE,\n",
    "retweet_count INTEGER);\"\"\") #creating a new tables within database"
   ]
  },
  {
   "cell_type": "code",
   "execution_count": 39,
   "metadata": {
    "collapsed": true
   },
   "outputs": [],
   "source": [
    "tweets_master_table.to_sql(\"tweets_master_table\", conn, if_exists = 'append', index = False) #Storing data frame to SQL database"
   ]
  },
  {
   "cell_type": "code",
   "execution_count": 40,
   "metadata": {},
   "outputs": [
    {
     "data": {
      "text/plain": [
       "<sqlite3.Cursor at 0x24b65a55490>"
      ]
     },
     "execution_count": 40,
     "metadata": {},
     "output_type": "execute_result"
    }
   ],
   "source": [
    "#c.execute(\"\"\"DROP TABLE twitter_user_table;\"\"\")\n",
    "c.execute(\"\"\"CREATE TABLE twitter_user_table(\n",
    "user_id INTEGER PRIMARY KEY,\n",
    "user_name CHAR);\"\"\") #creating a new tables within database"
   ]
  },
  {
   "cell_type": "code",
   "execution_count": 41,
   "metadata": {
    "collapsed": true
   },
   "outputs": [],
   "source": [
    "twitter_user_table.to_sql(\"twitter_user_table\", conn, if_exists = 'append', index = False) #Storing data frame to SQL database"
   ]
  },
  {
   "cell_type": "code",
   "execution_count": 42,
   "metadata": {},
   "outputs": [
    {
     "data": {
      "text/plain": [
       "<sqlite3.Cursor at 0x24b65a55490>"
      ]
     },
     "execution_count": 42,
     "metadata": {},
     "output_type": "execute_result"
    }
   ],
   "source": [
    "#c.execute(\"\"\"DROP TABLE movie_tags;\"\"\")\n",
    "c.execute(\"\"\"CREATE TABLE movie_tags(\n",
    "movie_id INTEGER FOREIOGN KEY,\n",
    "word CHAR,\n",
    "score FLOAT);\"\"\") #creating a new table within database"
   ]
  },
  {
   "cell_type": "code",
   "execution_count": 43,
   "metadata": {
    "collapsed": true
   },
   "outputs": [],
   "source": [
    "tag_scores.to_sql(\"movie_tags\", conn, if_exists = \"append\", index = False) #storing dataframe to SQL database"
   ]
  },
  {
   "cell_type": "markdown",
   "metadata": {},
   "source": [
    "## Creating connection to the database\n",
    "\n",
    "Here, we are using SQLite database management system in order to create store and analyse our data. we create a relational database schema and store our data inside.\n"
   ]
  },
  {
   "cell_type": "code",
   "execution_count": 44,
   "metadata": {},
   "outputs": [
    {
     "data": {
      "text/plain": [
       "<sqlite3.Cursor at 0x24b65a55490>"
      ]
     },
     "execution_count": 44,
     "metadata": {},
     "output_type": "execute_result"
    }
   ],
   "source": [
    "#c.execute(\"\"\"DROP TABLE movie_director_maping;\"\"\")\n",
    "c.execute(\"\"\"CREATE TABLE movie_director_maping(\n",
    "movie_id INTEGER FOREGION KEY,\n",
    "director_id INTEGER FOREGION KEY)\"\"\") #creating a new tables within database"
   ]
  },
  {
   "cell_type": "code",
   "execution_count": 45,
   "metadata": {
    "collapsed": true
   },
   "outputs": [],
   "source": [
    "movie_director_maping.to_sql(\"movie_director_maping\", conn, if_exists = 'append', index = False) #Storing data frame to SQL database"
   ]
  },
  {
   "cell_type": "code",
   "execution_count": 46,
   "metadata": {},
   "outputs": [
    {
     "data": {
      "text/plain": [
       "<sqlite3.Cursor at 0x24b65a55490>"
      ]
     },
     "execution_count": 46,
     "metadata": {},
     "output_type": "execute_result"
    }
   ],
   "source": [
    "#c.execute(\"\"\"DROP TABLE movie_starcast_maping;\"\"\")\n",
    "c.execute(\"\"\"CREATE TABLE movie_starcast_maping(\n",
    "movie_id INTEGER FOREGION KEY,\n",
    "starcast_id INTEGER FOREGION KEY)\"\"\") #creating a new tables within database"
   ]
  },
  {
   "cell_type": "code",
   "execution_count": 47,
   "metadata": {
    "collapsed": true
   },
   "outputs": [],
   "source": [
    "movie_starcast_maping.to_sql(\"movie_starcast_maping\", conn, if_exists = 'append', index = False) #Storing data frame to SQL database"
   ]
  },
  {
   "cell_type": "code",
   "execution_count": 48,
   "metadata": {},
   "outputs": [
    {
     "data": {
      "text/plain": [
       "<sqlite3.Cursor at 0x24b65a55490>"
      ]
     },
     "execution_count": 48,
     "metadata": {},
     "output_type": "execute_result"
    }
   ],
   "source": [
    "#c.execute(\"\"\"DROP TABLE movie_genre_maping;\"\"\")\n",
    "c.execute(\"\"\"CREATE TABLE movie_genre_maping(\n",
    "movie_id INTEGER FOREGION KEY,\n",
    "genre_id INTEGER FOREGION KEY)\"\"\") #creating a new tables within database"
   ]
  },
  {
   "cell_type": "code",
   "execution_count": 49,
   "metadata": {
    "collapsed": true
   },
   "outputs": [],
   "source": [
    "movie_genre_maping.to_sql(\"movie_genre_maping\", conn, if_exists = 'append', index = False) #Storing data frame to SQL database"
   ]
  },
  {
   "cell_type": "code",
   "execution_count": 50,
   "metadata": {},
   "outputs": [
    {
     "data": {
      "text/plain": [
       "<sqlite3.Cursor at 0x24b65a55490>"
      ]
     },
     "execution_count": 50,
     "metadata": {},
     "output_type": "execute_result"
    }
   ],
   "source": [
    "#c.execute(\"\"\"DROP TABLE movie_post_maping;\"\"\")\n",
    "c.execute(\"\"\"CREATE TABLE movie_post_maping(\n",
    "movie_id INTEGER FOREGION KEY,\n",
    "post_id CHAR FOREGION KEY)\"\"\") #creating a new tables within database"
   ]
  },
  {
   "cell_type": "code",
   "execution_count": 51,
   "metadata": {
    "collapsed": true
   },
   "outputs": [],
   "source": [
    "movie_post_maping.to_sql(\"movie_post_maping\", conn, if_exists = 'append', index = False) #Storing data frame to SQL database"
   ]
  },
  {
   "cell_type": "code",
   "execution_count": 52,
   "metadata": {},
   "outputs": [
    {
     "data": {
      "text/plain": [
       "<sqlite3.Cursor at 0x24b65a55490>"
      ]
     },
     "execution_count": 52,
     "metadata": {},
     "output_type": "execute_result"
    }
   ],
   "source": [
    "#c.execute(\"\"\"DROP TABLE post_comment_maping;\"\"\")\n",
    "c.execute(\"\"\"CREATE TABLE post_comment_maping(\n",
    "post_id CHAR FOREGION KEY,\n",
    "comments_id CHAR FOREGION KEY)\"\"\") #creating a new tables within database"
   ]
  },
  {
   "cell_type": "code",
   "execution_count": 53,
   "metadata": {
    "collapsed": true
   },
   "outputs": [],
   "source": [
    "post_comment_maping.to_sql(\"post_comment_maping\", conn, if_exists = 'append', index = False) #Storing data frame to SQL database"
   ]
  },
  {
   "cell_type": "code",
   "execution_count": 54,
   "metadata": {},
   "outputs": [
    {
     "data": {
      "text/plain": [
       "<sqlite3.Cursor at 0x24b65a55490>"
      ]
     },
     "execution_count": 54,
     "metadata": {},
     "output_type": "execute_result"
    }
   ],
   "source": [
    "#c.execute(\"\"\"DROP TABLE movie_tweets_mapping;\"\"\")\n",
    "c.execute(\"\"\"CREATE TABLE movie_tweets_mapping(\n",
    "movie_id CHAR FOREGION KEY,\n",
    "tweet_id CHAR FOREGION KEY)\"\"\") #creating a new tables within database"
   ]
  },
  {
   "cell_type": "code",
   "execution_count": 55,
   "metadata": {
    "collapsed": true
   },
   "outputs": [],
   "source": [
    "movie_tweets_mapping.to_sql(\"movie_tweets_mapping\", conn, if_exists = 'append', index = False) #Storing data frame to SQL database"
   ]
  },
  {
   "cell_type": "code",
   "execution_count": 56,
   "metadata": {},
   "outputs": [
    {
     "data": {
      "text/plain": [
       "<sqlite3.Cursor at 0x24b65a55490>"
      ]
     },
     "execution_count": 56,
     "metadata": {},
     "output_type": "execute_result"
    }
   ],
   "source": [
    "#c.execute(\"\"\"DROP TABLE tweets_user_mapping;\"\"\")\n",
    "c.execute(\"\"\"CREATE TABLE tweets_user_mapping(\n",
    "tweet_id CHAR FOREGION KEY,\n",
    "user_id CHAR FOREGION KEY)\"\"\") #creating a new tables within database"
   ]
  },
  {
   "cell_type": "code",
   "execution_count": 57,
   "metadata": {
    "collapsed": true
   },
   "outputs": [],
   "source": [
    "tweets_user_mapping.to_sql(\"tweets_user_mapping\", conn, if_exists = 'append', index = False) #Storing data frame to SQL database"
   ]
  },
  {
   "cell_type": "markdown",
   "metadata": {},
   "source": [
    "# Success!\n",
    "\n",
    "We have successfully created our movie database and stored our data into them. This ends this blog at this point, please refer to the other blog for learning to create the same database in a non relational database."
   ]
  },
  {
   "cell_type": "markdown",
   "metadata": {},
   "source": [
    "# Licensing\n",
    "\n",
    "## [MIT License](https://opensource.org/licenses/MIT)\n",
    "### Copyright <2018> <COPYRIGHT Amar Chheda | Shruti Subbaiah>\n",
    "\n",
    "Permission is hereby granted, free of charge, to any person obtaining a copy of this software and associated documentation files (the \"Software\"), to deal in the Software without restriction, including without limitation the rights to use, copy, modify, merge, publish, distribute, sublicense, and/or sell copies of the Software, and to permit persons to whom the Software is furnished to do so, subject to the following conditions:\n",
    "\n",
    "The above copyright notice and this permission notice shall be included in all copies or substantial portions of the Software.\n",
    "\n",
    "THE SOFTWARE IS PROVIDED \"AS IS\", WITHOUT WARRANTY OF ANY KIND, EXPRESS OR IMPLIED, INCLUDING BUT NOT LIMITED TO THE WARRANTIES OF MERCHANTABILITY, FITNESS FOR A PARTICULAR PURPOSE AND NONINFRINGEMENT. IN NO EVENT SHALL THE AUTHORS OR COPYRIGHT HOLDERS BE LIABLE FOR ANY CLAIM, DAMAGES OR OTHER LIABILITY, WHETHER IN AN ACTION OF CONTRACT, TORT OR OTHERWISE, ARISING FROM, OUT OF OR IN CONNECTION WITH THE SOFTWARE OR THE USE OR OTHER DEALINGS IN THE SOFTWARE."
   ]
  },
  {
   "cell_type": "markdown",
   "metadata": {},
   "source": [
    "# Licensing\n",
    "\n",
    "## [MIT License](https://opensource.org/licenses/MIT)\n",
    "### Copyright <2018> <COPYRIGHT Amar Chheda | Shruti Subbaiah>\n",
    "\n",
    "Permission is hereby granted, free of charge, to any person obtaining a copy of this software and associated documentation files (the \"Software\"), to deal in the Software without restriction, including without limitation the rights to use, copy, modify, merge, publish, distribute, sublicense, and/or sell copies of the Software, and to permit persons to whom the Software is furnished to do so, subject to the following conditions:\n",
    "\n",
    "The above copyright notice and this permission notice shall be included in all copies or substantial portions of the Software.\n",
    "\n",
    "THE SOFTWARE IS PROVIDED \"AS IS\", WITHOUT WARRANTY OF ANY KIND, EXPRESS OR IMPLIED, INCLUDING BUT NOT LIMITED TO THE WARRANTIES OF MERCHANTABILITY, FITNESS FOR A PARTICULAR PURPOSE AND NONINFRINGEMENT. IN NO EVENT SHALL THE AUTHORS OR COPYRIGHT HOLDERS BE LIABLE FOR ANY CLAIM, DAMAGES OR OTHER LIABILITY, WHETHER IN AN ACTION OF CONTRACT, TORT OR OTHERWISE, ARISING FROM, OUT OF OR IN CONNECTION WITH THE SOFTWARE OR THE USE OR OTHER DEALINGS IN THE SOFTWARE."
   ]
  }
 ],
 "metadata": {
  "kernelspec": {
   "display_name": "Python 3",
   "language": "python",
   "name": "python3"
  },
  "language_info": {
   "codemirror_mode": {
    "name": "ipython",
    "version": 3
   },
   "file_extension": ".py",
   "mimetype": "text/x-python",
   "name": "python",
   "nbconvert_exporter": "python",
   "pygments_lexer": "ipython3",
   "version": "3.5.4"
  }
 },
 "nbformat": 4,
 "nbformat_minor": 2
}
